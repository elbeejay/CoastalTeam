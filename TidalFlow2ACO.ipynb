{
 "cells": [
  {
   "cell_type": "code",
   "execution_count": 1,
   "metadata": {},
   "outputs": [],
   "source": [
    "# imports\n",
    "import numpy as np\n",
    "import matplotlib.pyplot as plt\n",
    "from landlab import RasterModelGrid, imshow_grid\n",
    "from landlab.components import TidalFlowCalculator\n",
    "from landlab.grid.mappers import map_mean_of_link_nodes_to_link,  map_link_vector_components_to_node\n",
    "from landlab.io import read_esri_ascii\n",
    "import tidal_erosion_calculator as tec"
   ]
  },
  {
   "cell_type": "code",
   "execution_count": 2,
   "metadata": {
    "scrolled": true
   },
   "outputs": [
    {
     "name": "stdout",
     "output_type": "stream",
     "text": [
      "pre tfc:\n",
      "['topographic__elevation', 'vegetation']\n",
      "['veg_atlink']\n"
     ]
    }
   ],
   "source": [
    "# Set parameters (these are from the MarshMorpho2D source code)\n",
    "tidal_period = 12.5 * 3600.0  # tidal period in seconds\n",
    "tidal_range = 3.1  # tidal range in meters\n",
    "roughness_w = 0.02  # Manning's n water\n",
    "roughness_v = 0.1 #manning's n for veg\n",
    "mean_sea_level = 0.0  # mean sea level in meters\n",
    "mwd = 0.01  # minimum depth for water on areas higher than low tide water surface, meters\n",
    "nodata_code = 999  # code for a DEM cell with no valid data\n",
    "tcrgradeint = 0.2; # linear increase in tcr below MLW [pa/m\n",
    "# Read the DEM to create a grid and topography field\n",
    "(grid, z) = read_esri_ascii('zSW3.asc', name='topographic__elevation')\n",
    "\n",
    "#need to create vegetation grid #change to veg at cells\n",
    "veg = grid.add_zeros('vegetation',at='node');\n",
    "veg[z<0] = 1;\n",
    "veg_atlink = grid.map_max_of_link_nodes_to_link('vegetation')\n",
    "grid.add_field('veg_atlink',veg_atlink,at='link')\n",
    "\n",
    "# Configure boundaries: any nodata nodes, plus any nodes higher than mean high tide\n",
    "grid.status_at_node[z==nodata_code] = grid.BC_NODE_IS_CLOSED\n",
    "grid.status_at_node[z>1.8] = grid.BC_NODE_IS_CLOSED\n",
    "boundaries_above_msl = np.logical_and(grid.status_at_node==grid.BC_NODE_IS_FIXED_VALUE, z > 0.0)\n",
    "grid.status_at_node[boundaries_above_msl] = grid.BC_NODE_IS_CLOSED\n",
    "\n",
    "print('pre tfc:')\n",
    "print(grid.at_node.keys())\n",
    "print(grid.at_link.keys())\n",
    "\n",
    "#variable rougness as field in grid\n",
    "roughness_at_nodes = roughness_w + np.zeros(z.size)\n",
    "roughness_at_nodes[z < 0.0] = roughness_v #or roughness_at_nodes[veg] = roughness_v\n",
    "roughness = grid.add_zeros('roughness', at='link')\n",
    "map_mean_of_link_nodes_to_link(grid, roughness_at_nodes, out=roughness)\n",
    "\n",
    "# Instantiate a TidalFlowCalculator component\n",
    "tfc = TidalFlowCalculator(\n",
    "        grid,\n",
    "        tidal_period=tidal_period,\n",
    "        tidal_range=tidal_range,\n",
    "        roughness='roughness',\n",
    "        mean_sea_level=mean_sea_level,\n",
    "        min_water_depth=mwd,\n",
    ")\n",
    "tfc.run_one_step()"
   ]
  },
  {
   "cell_type": "code",
   "execution_count": 3,
   "metadata": {
    "scrolled": true
   },
   "outputs": [],
   "source": [
    "tau_cr = 0.2 #Critical stress for unvegetated areas\n",
    "tau_crv = 0.5  #Critical stress for vegetated areas\n",
    "mud_erodability = (10**-5)*24*3600;  # mud erodability kg/m2/s\n",
    "#should this be in seconds, days? he had it in days *24*3600\n",
    "\n",
    "v = grid.at_link['veg_atlink']\n",
    "tec.populateGrids(grid,tfc,tau_cr,tau_crv,v)"
   ]
  },
  {
   "cell_type": "code",
   "execution_count": null,
   "metadata": {},
   "outputs": [],
   "source": [
    "U = grid.at_node['ebb_tide_flow__velocity_node']\n",
    "print(U.mean())"
   ]
  },
  {
   "cell_type": "code",
   "execution_count": null,
   "metadata": {},
   "outputs": [],
   "source": [
    "#tec.plot_tidal_flow(grid)\n",
    "print((grid.has_field('cell','hydroperiod_cell')))\n",
    "aa = grid.at_cell['hydroperiod_cell']\n",
    "aa[1] = 1.5234\n",
    "grid.add_field('hydroperiod_cell',aa,at='cell',clobber=True)"
   ]
  },
  {
   "cell_type": "code",
   "execution_count": 4,
   "metadata": {},
   "outputs": [
    {
     "name": "stdout",
     "output_type": "stream",
     "text": [
      "[ 0.  0.  0. ...,  0.  0.  0.]\n",
      "0.684349209041\n"
     ]
    }
   ],
   "source": [
    "ero = tec.totalsedimenterosion_mudsine(grid, mud_erodability, tidal_range, tcrgradeint)\n",
    "#ok so for some reason erosion value is SUPER high -- no clue why...need to clear that up!\n",
    "print(ero)\n",
    "print(ero.mean())"
   ]
  },
  {
   "cell_type": "code",
   "execution_count": 5,
   "metadata": {},
   "outputs": [
    {
     "name": "stdout",
     "output_type": "stream",
     "text": [
      "248.537037567\n",
      "1.87692261146\n",
      "77.1407896739\n",
      "0.1\n",
      "2.127395\n",
      "288.656876139\n",
      "77.1407896739\n",
      "0.5\n"
     ]
    }
   ],
   "source": [
    "print(grid.at_node['erosion'].max())\n",
    "print(grid.at_node['utide'].max())\n",
    "print(grid.at_node['tauC'].max())\n",
    "print(grid.at_node['roughness_node'].max())\n",
    "print(grid.at_node['water_depth_at_node'].max())\n",
    "t = grid.at_node['tauC']\n",
    "tcr = grid.at_node['tau_cr_node']\n",
    "tt = t/tcr\n",
    "print(tt.max())\n",
    "print(t.max())\n",
    "print(tcr.max())\n",
    "\n",
    "#so no idea why tauC is so high - in Giulio it's 4.3, for us it's 93\n",
    "#also his max taucr is .5, ours is 199.99\n",
    "#our high tauC drives a high erosion\n",
    "#utide is similar range to his U (but note his does not have neg. values)\n",
    "#I've removed his for-loop (which does decr. erosion a bit in his code) and\n",
    "#I'm comparing his numbers sans for loop to our numbers (to make as close as possible)\n",
    "#his max erosion is 7.9!!! hours is 160...."
   ]
  },
  {
   "cell_type": "code",
   "execution_count": null,
   "metadata": {},
   "outputs": [],
   "source": [
    "for i in range(5):\n",
    "    ero = tec.totalsedimenterosion_mudsine(grid, mud_erodability, tidal_range, tcrgradeint)\n",
    "    print('ero mean: ' + str(ero.mean()))\n",
    "    print('ero max: ' +str(ero.max()))\n",
    "    print('z min: ' +str(z.min()))\n",
    "    z = grid.at_node['topographic__elevation']\n",
    "    z -= ero\n",
    "    print('z min post erosion: ' +str(z.min()))\n",
    "    tfc.run_one_step()\n",
    "    tec.updategrids(grid,tfc)  \n",
    "    \n",
    "    #plt.figure()\n",
    "    #imshow_grid(grid,grid.at_node['topographic__elevation'])\n",
    "    #plt.title(str(i))\n",
    "    "
   ]
  },
  {
   "cell_type": "code",
   "execution_count": null,
   "metadata": {},
   "outputs": [],
   "source": [
    "tec.plot_tidal_flow(grid)"
   ]
  },
  {
   "cell_type": "code",
   "execution_count": null,
   "metadata": {},
   "outputs": [],
   "source": []
  }
 ],
 "metadata": {
  "kernelspec": {
   "display_name": "Python 3",
   "language": "python",
   "name": "python3"
  },
  "language_info": {
   "codemirror_mode": {
    "name": "ipython",
    "version": 3
   },
   "file_extension": ".py",
   "mimetype": "text/x-python",
   "name": "python",
   "nbconvert_exporter": "python",
   "pygments_lexer": "ipython3",
   "version": "3.8.5"
  }
 },
 "nbformat": 4,
 "nbformat_minor": 4
}
