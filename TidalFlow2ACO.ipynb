{
 "cells": [
  {
   "cell_type": "code",
   "execution_count": 1,
   "metadata": {},
   "outputs": [],
   "source": [
    "# imports\n",
    "import numpy as np\n",
    "import matplotlib.pyplot as plt\n",
    "from landlab import RasterModelGrid, imshow_grid\n",
    "from landlab.components import TidalFlowCalculator\n",
    "from landlab.grid.mappers import map_mean_of_link_nodes_to_link,  map_link_vector_components_to_node\n",
    "from landlab.io import read_esri_ascii\n",
    "import tidal_erosion_calculator as tec"
   ]
  },
  {
   "cell_type": "code",
   "execution_count": 2,
   "metadata": {
    "scrolled": true
   },
   "outputs": [
    {
     "name": "stdout",
     "output_type": "stream",
     "text": [
      "pre tfc:\n",
      "['topographic__elevation', 'vegetation']\n",
      "['veg_atlink']\n",
      "['topographic__elevation', 'vegetation', 'mean_water__depth']\n"
     ]
    }
   ],
   "source": [
    "# Set parameters (these are from the MarshMorpho2D source code)\n",
    "tidal_period = 12.5 * 3600.0  # tidal period in seconds\n",
    "tidal_range = 3.1  # tidal range in meters\n",
    "roughness_w = 0.02  # Manning's n water\n",
    "roughness_v = 0.1 #manning's n for veg\n",
    "mean_sea_level = 0.0  # mean sea level in meters\n",
    "mwd = 0.01  # minimum depth for water on areas higher than low tide water surface, meters\n",
    "nodata_code = 999  # code for a DEM cell with no valid data\n",
    "tcrgradeint = 0.2; # linear increase in tcr below MLW [pa/m\n",
    "# Read the DEM to create a grid and topography field\n",
    "(grid, z) = read_esri_ascii('zSW3.asc', name='topographic__elevation')\n",
    "\n",
    "#need to create vegetation grid #change to veg at cells\n",
    "veg = grid.add_zeros('vegetation',at='node');\n",
    "veg[z<0] = 1;\n",
    "veg_atlink = grid.map_max_of_link_nodes_to_link('vegetation')\n",
    "grid.add_field('veg_atlink',veg_atlink,at='link')\n",
    "\n",
    "# Configure boundaries: any nodata nodes, plus any nodes higher than mean high tide\n",
    "grid.status_at_node[z==nodata_code] = grid.BC_NODE_IS_CLOSED\n",
    "grid.status_at_node[z>1.8] = grid.BC_NODE_IS_CLOSED\n",
    "boundaries_above_msl = np.logical_and(grid.status_at_node==grid.BC_NODE_IS_FIXED_VALUE, z > 0.0)\n",
    "grid.status_at_node[boundaries_above_msl] = grid.BC_NODE_IS_CLOSED\n",
    "\n",
    "print('pre tfc:')\n",
    "print(grid.at_node.keys())\n",
    "print(grid.at_link.keys())\n",
    "\n",
    "#variable rougness as field in grid\n",
    "roughness_at_nodes = roughness_w + np.zeros(z.size)\n",
    "roughness_at_nodes[z < 0.0] = roughness_v #or roughness_at_nodes[veg] = roughness_v\n",
    "roughness = grid.add_zeros('roughness', at='link')\n",
    "map_mean_of_link_nodes_to_link(grid, roughness_at_nodes, out=roughness)\n",
    "\n",
    "# Instantiate a TidalFlowCalculator component\n",
    "tfc = TidalFlowCalculator(\n",
    "        grid,\n",
    "        tidal_period=tidal_period,\n",
    "        tidal_range=tidal_range,\n",
    "        roughness='roughness',\n",
    "        mean_sea_level=mean_sea_level,\n",
    "        min_water_depth=mwd,\n",
    ")\n",
    "tfc.run_one_step()\n",
    "print(grid.at_node.keys())"
   ]
  },
  {
   "cell_type": "code",
   "execution_count": null,
   "metadata": {},
   "outputs": [],
   "source": [
    "print(grid.at_node.keys())"
   ]
  },
  {
   "cell_type": "code",
   "execution_count": 3,
   "metadata": {
    "scrolled": true
   },
   "outputs": [],
   "source": [
    "tau_cr = 0.2 #Critical stress for unvegetated areas\n",
    "tau_crv = 0.5  #Critical stress for vegetated areas\n",
    "mud_erodability = (10**-5)*24*3600;  # mud erodability kg/m2/s\n",
    "\n",
    "#should this be in seconds, days? he had it in days *24*3600\n",
    "\n",
    "v = grid.at_link['veg_atlink']\n",
    "tec.populateGrids(grid,tfc,tau_cr,tau_crv,v)"
   ]
  },
  {
   "cell_type": "code",
   "execution_count": null,
   "metadata": {},
   "outputs": [],
   "source": [
    "dd = grid.at_link['mean_water__depth']\n",
    "print(dd.mean())"
   ]
  },
  {
   "cell_type": "code",
   "execution_count": null,
   "metadata": {},
   "outputs": [],
   "source": [
    "#tec.plot_tidal_flow(grid)\n",
    "print((grid.has_field('cell','hydroperiod_cell')))\n",
    "aa = grid.at_cell['hydroperiod_cell']\n",
    "aa[1] = 1.5234\n",
    "grid.add_field('hydroperiod_cell',aa,at='cell',clobber=True)"
   ]
  },
  {
   "cell_type": "code",
   "execution_count": null,
   "metadata": {},
   "outputs": [],
   "source": [
    "ero = tec.totalsedimenterosion_mudsine(grid, mud_erodability, tidal_range, tcrgradeint)\n",
    "#ok so for some reason erosion value is SUPER high -- no clue why...need to clear that up!\n",
    "print(ero)\n",
    "print(ero.mean())"
   ]
  },
  {
   "cell_type": "code",
   "execution_count": 5,
   "metadata": {},
   "outputs": [
    {
     "name": "stdout",
     "output_type": "stream",
     "text": [
      "0.0824763254786\n",
      "2.05929500354\n",
      "26.4083062745\n",
      "0.1\n",
      "2.15186705188\n",
      "98.8401192507\n",
      "26.4083062745\n",
      "0.5\n"
     ]
    }
   ],
   "source": [
    "print(grid.at_node['erosion'].max())\n",
    "print(grid.at_node['utide'].max())\n",
    "print(grid.at_node['tauC'].max())\n",
    "print(grid.at_node['roughness_node'].max())\n",
    "print(grid.at_node['water_depth_at_node'].max())\n",
    "t = grid.at_node['tauC']\n",
    "tcr = grid.at_node['tau_cr_node']\n",
    "tt = t/tcr\n",
    "print(tt.max())\n",
    "print(t.max())\n",
    "print(tcr.max())\n",
    "\n",
    "#so no idea why tauC is so high - in Giulio it's 4.3, for us it's 93\n",
    "#also his max taucr is .5, ours is 199.99\n",
    "#our high tauC drives a high erosion\n",
    "#utide is similar range to his U (but note his does not have neg. values)\n",
    "#I've removed his for-loop (which does decr. erosion a bit in his code) and\n",
    "#I'm comparing his numbers sans for loop to our numbers (to make as close as possible)\n",
    "#his max erosion is 7.9!!! hours is 160...."
   ]
  },
  {
   "cell_type": "code",
   "execution_count": 4,
   "metadata": {},
   "outputs": [
    {
     "name": "stdout",
     "output_type": "stream",
     "text": [
      "ero mean: 0.000191468166903\n",
      "ero max: 0.0751540776334\n",
      "z min: -2.609347\n",
      "z min post erosion: -2.61419656315\n",
      "ero mean: 0.00018664713904\n",
      "ero max: 0.0777407265342\n",
      "z min: -2.61419656315\n",
      "z min post erosion: -2.61879734499\n",
      "ero mean: 0.000182115536497\n",
      "ero max: 0.0798310056436\n",
      "z min: -2.61879734499\n",
      "z min post erosion: -2.62316455658\n",
      "ero mean: 0.000177818366536\n",
      "ero max: 0.0814063030244\n",
      "z min: -2.62316455658\n",
      "z min post erosion: -2.62731102995\n",
      "ero mean: 0.000173720441274\n",
      "ero max: 0.0824763254786\n",
      "z min: -2.62731102995\n",
      "z min post erosion: -2.63124758125\n"
     ]
    }
   ],
   "source": [
    "for i in range(5):\n",
    "    ero = tec.totalsedimenterosion_mudsine(grid, mud_erodability, tidal_range, tcrgradeint)\n",
    "    #ero *= tidal_period/2 * 1/1025 #calc erosion over half the tidal cycle converting\n",
    "    ero *= 1/1025\n",
    "    print('ero mean: ' + str(ero.mean()))\n",
    "    print('ero max: ' +str(ero.max()))\n",
    "    print('z min: ' +str(z.min()))\n",
    "    z = grid.at_node['topographic__elevation']\n",
    "    z -= ero #update bed elevation\n",
    "    print('z min post erosion: ' +str(z.min()))\n",
    "    tfc.run_one_step()\n",
    "    tec.updategrids(grid,tfc)  \n",
    "    \n",
    "    #plt.figure()\n",
    "    #imshow_grid(grid,grid.at_node['topographic__elevation'])\n",
    "    #plt.title(str(i))\n",
    "    "
   ]
  },
  {
   "cell_type": "code",
   "execution_count": null,
   "metadata": {},
   "outputs": [],
   "source": [
    "tec.plot_tidal_flow(grid)"
   ]
  },
  {
   "cell_type": "code",
   "execution_count": 6,
   "metadata": {},
   "outputs": [
    {
     "data": {
      "text/plain": [
       "Text(0, 0.5, 'Distance (m)')"
      ]
     },
     "execution_count": 6,
     "metadata": {},
     "output_type": "execute_result"
    },
    {
     "data": {
      "image/png": "[encoded data removed]",
      "text/plain": [
       "<Figure size 432x288 with 2 Axes>"
      ]
     },
     "metadata": {
      "needs_background": "light"
     },
     "output_type": "display_data"
    }
   ],
   "source": [
    "plt.figure()\n",
    "imshow_grid(grid, grid.at_node['mean_water__depth'], cmap='viridis', color_for_closed='g',vmax=3)\n",
    "plt.title('Water depth (m)')\n",
    "plt.xlabel('Distance (m)')\n",
    "plt.ylabel('Distance (m)')\n"
   ]
  },
  {
   "cell_type": "code",
   "execution_count": 7,
   "metadata": {},
   "outputs": [
    {
     "name": "stdout",
     "output_type": "stream",
     "text": [
      "1.32938522767\n"
     ]
    }
   ],
   "source": [
    "print(grid.at_node['flood_tide_flow__velocity_node'].max())"
   ]
  },
  {
   "cell_type": "code",
   "execution_count": 8,
   "metadata": {},
   "outputs": [
    {
     "name": "stdout",
     "output_type": "stream",
     "text": [
      "2.63124758125\n",
      "0.01\n",
      "0.134758275698\n"
     ]
    }
   ],
   "source": [
    "print(grid.at_node['mean_water__depth'].max())\n",
    "print(grid.at_node['mean_water__depth'].min())\n",
    "print(grid.at_node['mean_water__depth'].mean())"
   ]
  },
  {
   "cell_type": "code",
   "execution_count": null,
   "metadata": {},
   "outputs": [],
   "source": []
  }
 ],
 "metadata": {
  "kernelspec": {
   "display_name": "Python 3",
   "language": "python",
   "name": "python3"
  },
  "language_info": {
   "codemirror_mode": {
    "name": "ipython",
    "version": 3
   },
   "file_extension": ".py",
   "mimetype": "text/x-python",
   "name": "python",
   "nbconvert_exporter": "python",
   "pygments_lexer": "ipython3",
   "version": "3.8.5"
  }
 },
 "nbformat": 4,
 "nbformat_minor": 4
}
