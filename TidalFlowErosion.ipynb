{
 "cells": [
  {
   "cell_type": "code",
   "execution_count": 1,
   "metadata": {},
   "outputs": [],
   "source": [
    "# imports\n",
    "import numpy as np\n",
    "import matplotlib.pyplot as plt\n",
    "from landlab import RasterModelGrid, imshow_grid\n",
    "from landlab.components import TidalFlowCalculator\n",
    "from landlab.grid.mappers import map_mean_of_link_nodes_to_link,  map_link_vector_components_to_node\n",
    "from landlab.io import read_esri_ascii\n",
    "import tidal_erosion_calculator as tec"
   ]
  },
  {
   "cell_type": "code",
   "execution_count": 2,
   "metadata": {
    "scrolled": true
   },
   "outputs": [
    {
     "name": "stdout",
     "output_type": "stream",
     "text": [
      "pre tfc:\n",
      "['topographic__elevation', 'vegetation']\n",
      "['veg_atlink']\n",
      "['topographic__elevation', 'vegetation', 'mean_water__depth']\n"
     ]
    }
   ],
   "source": [
    "# Set parameters (these are from the MarshMorpho2D source code)\n",
    "tidal_period = 12.5 * 3600.0  # tidal period in seconds\n",
    "tidal_range = 3.1  # tidal range in meters\n",
    "roughness_w = 0.02  # Manning's n water\n",
    "roughness_v = 0.1 #manning's n for veg\n",
    "mean_sea_level = 0.0  # mean sea level in meters\n",
    "mwd = 0.01  # minimum depth for water on areas higher than low tide water surface, meters\n",
    "nodata_code = 999  # code for a DEM cell with no valid data\n",
    "tcrgradeint = 0.2; # linear increase in tcr below MLW [pa/m\n",
    "# Read the DEM to create a grid and topography field\n",
    "(grid, z) = read_esri_ascii('zSW3.asc', name='topographic__elevation')\n",
    "\n",
    "#need to create vegetation grid #change to veg at cells\n",
    "veg = grid.add_zeros('vegetation',at='node');\n",
    "veg[z<0] = 1; #vegetation placed on all \"land cells\" - change as desired\n",
    "veg_atlink = grid.map_max_of_link_nodes_to_link('vegetation')\n",
    "grid.add_field('veg_atlink',veg_atlink,at='link')\n",
    "\n",
    "# Configure boundaries: any nodata nodes, plus any nodes higher than mean high tide\n",
    "grid.status_at_node[z==nodata_code] = grid.BC_NODE_IS_CLOSED\n",
    "grid.status_at_node[z>1.8] = grid.BC_NODE_IS_CLOSED\n",
    "boundaries_above_msl = np.logical_and(grid.status_at_node==grid.BC_NODE_IS_FIXED_VALUE, z > 0.0)\n",
    "grid.status_at_node[boundaries_above_msl] = grid.BC_NODE_IS_CLOSED\n",
    "\n",
    "print('pre tfc:')\n",
    "print(grid.at_node.keys())\n",
    "print(grid.at_link.keys())\n",
    "\n",
    "#variable rougness as field in grid\n",
    "roughness_at_nodes = roughness_w + np.zeros(z.size)\n",
    "roughness_at_nodes[z < 0.0] = roughness_v #or roughness_at_nodes[veg] = roughness_v\n",
    "roughness = grid.add_zeros('roughness', at='link')\n",
    "map_mean_of_link_nodes_to_link(grid, roughness_at_nodes, out=roughness)\n",
    "\n",
    "# Instantiate a TidalFlowCalculator component\n",
    "tfc = TidalFlowCalculator(\n",
    "        grid,\n",
    "        tidal_period=tidal_period,\n",
    "        tidal_range=tidal_range,\n",
    "        roughness='roughness',\n",
    "        mean_sea_level=mean_sea_level,\n",
    "        min_water_depth=mwd,\n",
    ")\n",
    "tfc.run_one_step()\n",
    "print(grid.at_node.keys())"
   ]
  },
  {
   "cell_type": "code",
   "execution_count": 3,
   "metadata": {
    "scrolled": true
   },
   "outputs": [],
   "source": [
    "tau_cr = 0.2 #Critical stress for unvegetated areas\n",
    "tau_crv = 0.5  #Critical stress for vegetated areas\n",
    "mud_erodability = (10**-5);  # mud erodability kg/m2/s\n",
    "\n",
    "v = grid.at_link['veg_atlink']\n",
    "#populate grids to use in erosion calculations\n",
    "tec.populateGrids(grid,tfc,tau_cr,tau_crv,v)"
   ]
  },
  {
   "cell_type": "code",
   "execution_count": 4,
   "metadata": {},
   "outputs": [
    {
     "name": "stdout",
     "output_type": "stream",
     "text": [
      "[ 0.  0.  0. ...,  0.  0.  0.]\n",
      "6.93784269471e-06\n"
     ]
    }
   ],
   "source": [
    "#run a single erosion step (note this just calculate erosion as a rate, does not update grids)\n",
    "ero = tec.totalsedimenterosion_mudsine(grid, mud_erodability, tidal_range, tcrgradeint)\n",
    "print(ero)\n",
    "print(ero.mean())"
   ]
  },
  {
   "cell_type": "code",
   "execution_count": 5,
   "metadata": {},
   "outputs": [
    {
     "data": {
      "text/plain": [
       "array([ 0.01,  0.01,  0.01, ...,  0.01,  0.01,  0.01])"
      ]
     },
     "execution_count": 5,
     "metadata": {},
     "output_type": "execute_result"
    }
   ],
   "source": [
    "#save original bathy & topo maps\n",
    "x = grid.at_node['topographic__elevation'].copy()\n",
    "grid.add_field('Initial_topographic_elevation',x,at='node')\n",
    "y = grid.at_node['mean_water__depth'].copy()\n",
    "grid.add_field('Initial_mean_water_depth',y,at='node')"
   ]
  },
  {
   "cell_type": "code",
   "execution_count": null,
   "metadata": {},
   "outputs": [
    {
     "name": "stdout",
     "output_type": "stream",
     "text": [
      "z min post erosion: -2.6107306277\n",
      "z min post erosion: -2.61209543996\n"
     ]
    }
   ],
   "source": [
    "#now to actually do psuedo morphodynamics (aka allow erosion to happen in cells, but no sed. transport, no deposition)\n",
    "#this will step through erosion calculation, calculate the new bed elevation, recalculate the hydrodynamics, and update grids\n",
    "#it then plots every 20th  step, and outputs the minimum bed elevation every step\n",
    "\n",
    "for i in range(101):\n",
    "    ero = tec.totalsedimenterosion_mudsine(grid, mud_erodability, tidal_range, tcrgradeint)\n",
    "    ero *= tidal_period/2 * 1/2650 #calc erosion over half the tidal cycle converting\n",
    "    #ero *= 1/1025 #if using mud erodability in days (unsure of how that works unit wise)\n",
    "    #print('ero mean: ' + str(ero.mean()))\n",
    "    #print('ero max: ' +str(ero.max()))\n",
    "    #print('z min: ' +str(z.min()))\n",
    "    z = grid.at_node['topographic__elevation']\n",
    "    z -= ero #update bed elevation\n",
    "    print('z min post erosion: ' +str(z.min()))\n",
    "    tfc.run_one_step()\n",
    "    tec.updategrids(grid,tfc)  \n",
    "    \n",
    "    if i%20==0:\n",
    "        plt.figure()\n",
    "        imshow_grid(grid,grid.at_node['topographic__elevation'], vmin = -3, vmax = 1.5, cmap = 'viridis')\n",
    "        plt.title('Topographic elevation (m), Step = ' + str(i))\n",
    "        plt.xlabel('Distance (m)')\n",
    "        plt.ylabel('Distance (m)')\n",
    "    "
   ]
  },
  {
   "cell_type": "code",
   "execution_count": null,
   "metadata": {},
   "outputs": [],
   "source": [
    "tec.plot_tidal_flow(grid) #plot the various flow mechanisms"
   ]
  },
  {
   "cell_type": "code",
   "execution_count": null,
   "metadata": {},
   "outputs": [],
   "source": [
    "#plot final water depths\n",
    "plt.figure()\n",
    "imshow_grid(grid, grid.at_node['mean_water__depth'], cmap='viridis', color_for_closed='g',vmax=3)\n",
    "plt.title('Water depth (m)')\n",
    "plt.xlabel('Distance (m)')\n",
    "plt.ylabel('Distance (m)')\n",
    "\n",
    "plt.figure()\n",
    "imshow_grid(grid, grid.at_node['Initial_mean_water__depth'], cmap='viridis', color_for_closed='g',vmax=3)\n",
    "plt.title('Water depth (m)')\n",
    "plt.xlabel('Distance (m)')\n",
    "plt.ylabel('Distance (m)')\n",
    "\n",
    "g =  grid.at_node['mean_water__depth'].copy();\n",
    "go = grid.at_node['Initial_mean_water__depth'].copy();\n",
    "gper = abs(g-go)/go * 100\n",
    "grid.add_field('Percent Change water depth',gper,at='node')\n",
    "imshow_grid(grid, grid.at_node['Percent Change water depth'], cmap='viridis', color_for_closed='g')\n",
    "plt.title('Percent Change of Water depth over simulation')\n",
    "plt.xlabel('Distance (m)')\n",
    "plt.ylabel('Distance (m)')"
   ]
  },
  {
   "cell_type": "code",
   "execution_count": null,
   "metadata": {},
   "outputs": [],
   "source": []
  }
 ],
 "metadata": {
  "kernelspec": {
   "display_name": "Python 3",
   "language": "python",
   "name": "python3"
  },
  "language_info": {
   "codemirror_mode": {
    "name": "ipython",
    "version": 3
   },
   "file_extension": ".py",
   "mimetype": "text/x-python",
   "name": "python",
   "nbconvert_exporter": "python",
   "pygments_lexer": "ipython3",
   "version": "3.8.5"
  }
 },
 "nbformat": 4,
 "nbformat_minor": 4
}
